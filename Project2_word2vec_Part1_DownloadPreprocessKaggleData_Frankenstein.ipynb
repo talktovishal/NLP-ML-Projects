{
  "nbformat": 4,
  "nbformat_minor": 0,
  "metadata": {
    "colab": {
      "name": "Project2_word2vec-Part1-DownloadPreprocessKaggleData-Frankenstein.ipynb",
      "provenance": [],
      "collapsed_sections": [],
      "machine_shape": "hm",
      "mount_file_id": "12HdrCGi4eDCcI0qf8xRhyb1mxLkNrVhD",
      "authorship_tag": "ABX9TyOAHshrTJ90c2ByuPhmP/ns",
      "include_colab_link": true
    },
    "kernelspec": {
      "name": "python3",
      "display_name": "Python 3"
    }
  },
  "cells": [
    {
      "cell_type": "markdown",
      "metadata": {
        "id": "view-in-github",
        "colab_type": "text"
      },
      "source": [
        "<a href=\"https://colab.research.google.com/github/talktovishal/NLP-ML-Projects/blob/master/Project2_word2vec_Part1_DownloadPreprocessKaggleData_Frankenstein.ipynb\" target=\"_parent\"><img src=\"https://colab.research.google.com/assets/colab-badge.svg\" alt=\"Open In Colab\"/></a>"
      ]
    },
    {
      "cell_type": "code",
      "metadata": {
        "id": "0P3n1AKc08Dp",
        "colab_type": "code",
        "outputId": "ea12e143-99b5-454d-abd9-3ab809547304",
        "colab": {
          "base_uri": "https://localhost:8080/",
          "height": 122
        }
      },
      "source": [
        "import pandas as pd\n",
        "import numpy as np\n",
        "\n",
        "from google.colab import drive\n",
        "drive.mount(\"/content/drive\", force_remount=True)\n"
      ],
      "execution_count": 0,
      "outputs": [
        {
          "output_type": "stream",
          "text": [
            "Go to this URL in a browser: https://accounts.google.com/o/oauth2/auth?client_id=947318989803-6bn6qk8qdgf4n4g3pfee6491hc0brc4i.apps.googleusercontent.com&redirect_uri=urn%3aietf%3awg%3aoauth%3a2.0%3aoob&response_type=code&scope=email%20https%3a%2f%2fwww.googleapis.com%2fauth%2fdocs.test%20https%3a%2f%2fwww.googleapis.com%2fauth%2fdrive%20https%3a%2f%2fwww.googleapis.com%2fauth%2fdrive.photos.readonly%20https%3a%2f%2fwww.googleapis.com%2fauth%2fpeopleapi.readonly\n",
            "\n",
            "Enter your authorization code:\n",
            "··········\n",
            "Mounted at /content/drive\n"
          ],
          "name": "stdout"
        }
      ]
    },
    {
      "cell_type": "code",
      "metadata": {
        "id": "OzKkqm9G5422",
        "colab_type": "code",
        "colab": {}
      },
      "source": [
        "!cp \"/content/drive/My Drive/Public Shared/Project-2-Word-Embeddings/frankenstein.txt\" \"frankenstein.txt\"\n"
      ],
      "execution_count": 0,
      "outputs": []
    },
    {
      "cell_type": "code",
      "metadata": {
        "id": "CrIEmwrb6Jtt",
        "colab_type": "code",
        "outputId": "4d94137c-3500-4b46-eb7d-2ffee37d3721",
        "colab": {
          "base_uri": "https://localhost:8080/",
          "height": 34
        }
      },
      "source": [
        "!pwd"
      ],
      "execution_count": 0,
      "outputs": [
        {
          "output_type": "stream",
          "text": [
            "/content\n"
          ],
          "name": "stdout"
        }
      ]
    },
    {
      "cell_type": "code",
      "metadata": {
        "id": "6fh91Piq6wY1",
        "colab_type": "code",
        "outputId": "29bdac20-f287-46b2-e8cf-1dd49ed6da88",
        "colab": {
          "base_uri": "https://localhost:8080/",
          "height": 136
        }
      },
      "source": [
        "!ls -a -l"
      ],
      "execution_count": 0,
      "outputs": [
        {
          "output_type": "stream",
          "text": [
            "total 460\n",
            "drwxr-xr-x 1 root root   4096 Apr  5 23:45 .\n",
            "drwxr-xr-x 1 root root   4096 Apr  5 23:22 ..\n",
            "drwxr-xr-x 1 root root   4096 Apr  2 16:11 .config\n",
            "drwx------ 4 root root   4096 Apr  5 23:43 drive\n",
            "-rw------- 1 root root 447984 Apr  5 23:45 frankenstein.txt\n",
            "drwxr-xr-x 1 root root   4096 Mar 18 16:23 sample_data\n"
          ],
          "name": "stdout"
        }
      ]
    },
    {
      "cell_type": "code",
      "metadata": {
        "id": "iLHbrFIq9mAB",
        "colab_type": "code",
        "outputId": "c4a4e859-6624-4834-ab7b-e4e050792fb9",
        "colab": {
          "base_uri": "https://localhost:8080/",
          "height": 51
        }
      },
      "source": [
        "import nltk\n",
        "#for stop words\n",
        "nltk.download('stopwords')\n",
        "from nltk.corpus import stopwords"
      ],
      "execution_count": 0,
      "outputs": [
        {
          "output_type": "stream",
          "text": [
            "[nltk_data] Downloading package stopwords to /root/nltk_data...\n",
            "[nltk_data]   Unzipping corpora/stopwords.zip.\n"
          ],
          "name": "stdout"
        }
      ]
    },
    {
      "cell_type": "code",
      "metadata": {
        "id": "GiCf6M3MAAB2",
        "colab_type": "code",
        "outputId": "4260df87-5289-448b-f0fe-52b1bd1b099f",
        "colab": {
          "base_uri": "https://localhost:8080/",
          "height": 102
        }
      },
      "source": [
        "from nltk.tokenize import word_tokenize\n",
        "from nltk.stem.wordnet import WordNetLemmatizer\n",
        "import string\n",
        "\n",
        "lemmatizer = WordNetLemmatizer()\n",
        "\n",
        "#lemmatizer code from https://simonhessner.de/lemmatize-whole-sentences-with-python-and-nltks-wordnetlemmatizer/\n",
        "from nltk.corpus import wordnet\n",
        "nltk.download('averaged_perceptron_tagger')\n",
        "nltk.download('wordnet')\n",
        "def nltk2wn_tag(nltk_tag):\n",
        "  if nltk_tag.startswith('J'):\n",
        "    return wordnet.ADJ\n",
        "  elif nltk_tag.startswith('V'):\n",
        "    return wordnet.VERB\n",
        "  elif nltk_tag.startswith('N'):\n",
        "    return wordnet.NOUN\n",
        "  elif nltk_tag.startswith('R'):\n",
        "    return wordnet.ADV\n",
        "  else:          \n",
        "    return None\n",
        "\n",
        "def lemmatize_sentence(sentence):\n",
        "  nltk_tagged = nltk.pos_tag(nltk.word_tokenize(sentence))  \n",
        "  wn_tagged = map(lambda x: (x[0], nltk2wn_tag(x[1])), nltk_tagged)\n",
        "  res_words = []\n",
        "  for word, tag in wn_tagged:\n",
        "    if tag is None:            \n",
        "      res_words.append(word)\n",
        "    else:\n",
        "      res_words.append(lemmatizer.lemmatize(word, tag))\n",
        "  return res_words\n",
        "\n",
        "\n",
        "import re\n",
        "# If you need to use the regex more than once it is suggested to compile it.\n",
        "notStartsWithAlphaNumber = re.compile(r\"[^\\w\\s]\")\n",
        "onlyDigits = re.compile(r\"\\d+\")\n",
        "\n",
        "def normalizeSentence(sentence):\n",
        "  #lowercase\n",
        "  #There's a risk of doing lower(). US and us are two different things\n",
        "  updatedSentence = sentence.lower()\n",
        "  #remove punctuations\n",
        "  updatedSentence = updatedSentence.translate(str.maketrans('','',string.punctuation))\n",
        "  updatedSentence = notStartsWithAlphaNumber.sub(\"\", updatedSentence)\n",
        "  updatedSentence = onlyDigits.sub(\"\", updatedSentence)  \n",
        "  return updatedSentence\n",
        "\n",
        "\n",
        "#not i am not removing stop words since i plan to use this for tf-idf calculation\n",
        "def normalizeAndLemmatizeSentence(sentence):\n",
        "  updatedSentence = normalizeSentence(sentence)\n",
        "  #lemmatization\n",
        "  return lemmatize_sentence(updatedSentence)\n"
      ],
      "execution_count": 0,
      "outputs": [
        {
          "output_type": "stream",
          "text": [
            "[nltk_data] Downloading package averaged_perceptron_tagger to\n",
            "[nltk_data]     /root/nltk_data...\n",
            "[nltk_data]   Unzipping taggers/averaged_perceptron_tagger.zip.\n",
            "[nltk_data] Downloading package wordnet to /root/nltk_data...\n",
            "[nltk_data]   Unzipping corpora/wordnet.zip.\n"
          ],
          "name": "stdout"
        }
      ]
    },
    {
      "cell_type": "code",
      "metadata": {
        "id": "urre8EGZAtKC",
        "colab_type": "code",
        "outputId": "4539dfc5-c5eb-4110-8ae7-a3d3b39d828a",
        "colab": {
          "base_uri": "https://localhost:8080/",
          "height": 51
        }
      },
      "source": [
        "import nltk.data\n",
        "nltk.download('punkt')\n",
        "sentence_detection = nltk.data.load('tokenizers/punkt/english.pickle')\n",
        "\n",
        "#https://www.nltk.org/api/nltk.tokenize.html\n",
        "def extract_sentences(text):\n",
        "  return sentence_detection.tokenize(text)\n",
        "\n",
        "\n",
        "def extract_n_normalize_sentences(text):\n",
        "  allSentences = sentence_detection.tokenize(text)\n",
        "  updatedSentences = []\n",
        "  for sentence in allSentences:\n",
        "    #NOTE: You need an additional [] bracket before you add content to the list\n",
        "    #Reason = https://stackoverflow.com/questions/29947007/array-extendstring-adds-every-character-instead-of-just-the-string\n",
        "    updatedSentences.extend([normalizeSentence(sentence)])\n",
        "  return updatedSentences\n"
      ],
      "execution_count": 0,
      "outputs": [
        {
          "output_type": "stream",
          "text": [
            "[nltk_data] Downloading package punkt to /root/nltk_data...\n",
            "[nltk_data]   Unzipping tokenizers/punkt.zip.\n"
          ],
          "name": "stdout"
        }
      ]
    },
    {
      "cell_type": "code",
      "metadata": {
        "id": "SJZwBUl4geXW",
        "colab_type": "code",
        "outputId": "a5dd81b3-29e6-4f40-ba9e-798316772f43",
        "colab": {
          "base_uri": "https://localhost:8080/",
          "height": 54
        }
      },
      "source": [
        "temp = open('frankenstein.txt','r').read().split('\\n')\n",
        "seaparator = ' '\n",
        "content = seaparator.join(temp)\n",
        "\n",
        "normalizedSentences = []\n",
        "normalizedSentences.extend([normalizeSentence(s) for s in extract_sentences(content)])\n",
        "\n",
        "\"\"\"\n",
        "for file in os.listdir():\n",
        "    if(file.endswith('.txt')):\n",
        "      pdf = pd.read_csv(file)\n",
        "      print(f'Read file {file} into a panda dataframe')\n",
        "      \n",
        "      #this is a very slow method to iterate over the list and apply the normlize function.\n",
        "      #do somethign better: https://chrisalbon.com/python/basics/applying_functions_to_list_items/\n",
        "      #pdf['content'].apply(lambda content: normalizedSentences.extend(extract_n_normalize_sentences(content)))\n",
        "\n",
        "      pdf['content'].apply(lambda content: normalizedSentences.extend([normalizeSentence(s) for s in extract_sentences(content)]))\n",
        "      #for testing only, read only one file...\n",
        "      #break\n",
        "      #pdf.info()\n",
        "      #pdf.head(3)\n",
        "\"\"\""
      ],
      "execution_count": 0,
      "outputs": [
        {
          "output_type": "execute_result",
          "data": {
            "text/plain": [
              "\"\\nfor file in os.listdir():\\n    if(file.endswith('.txt')):\\n      pdf = pd.read_csv(file)\\n      print(f'Read file {file} into a panda dataframe')\\n      \\n      #this is a very slow method to iterate over the list and apply the normlize function.\\n      #do somethign better: https://chrisalbon.com/python/basics/applying_functions_to_list_items/\\n      #pdf['content'].apply(lambda content: normalizedSentences.extend(extract_n_normalize_sentences(content)))\\n\\n      pdf['content'].apply(lambda content: normalizedSentences.extend([normalizeSentence(s) for s in extract_sentences(content)]))\\n      #for testing only, read only one file...\\n      #break\\n      #pdf.info()\\n      #pdf.head(3)\\n\""
            ]
          },
          "metadata": {
            "tags": []
          },
          "execution_count": 15
        }
      ]
    },
    {
      "cell_type": "code",
      "metadata": {
        "id": "9129VwCNFglK",
        "colab_type": "code",
        "outputId": "47d96035-73ce-4ec9-e9d3-350e58c29e3c",
        "colab": {
          "base_uri": "https://localhost:8080/",
          "height": 54
        }
      },
      "source": [
        "normalizedSentences[555]"
      ],
      "execution_count": 0,
      "outputs": [
        {
          "output_type": "execute_result",
          "data": {
            "text/plain": [
              "'no one can conceive the variety of feelings which bore me onwards like a hurricane in the first enthusiasm of success'"
            ]
          },
          "metadata": {
            "tags": []
          },
          "execution_count": 18
        }
      ]
    },
    {
      "cell_type": "code",
      "metadata": {
        "id": "4Gd52OpyJ4NW",
        "colab_type": "code",
        "colab": {}
      },
      "source": [
        "import pickle\n",
        "with open('normalizedSentences-frankenstein.pickle', 'wb') as f:\n",
        "    pickle.dump(normalizedSentences, f)\n",
        "\n",
        "!cp \"normalizedSentences-frankenstein.pickle\" \"/content/drive/My Drive/Public Shared/Project-2-Word-Embeddings/normalizedSentences-frankenstein.pickle\"\n",
        "\n"
      ],
      "execution_count": 0,
      "outputs": []
    }
  ]
}