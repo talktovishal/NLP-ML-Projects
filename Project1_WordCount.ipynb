{
  "nbformat": 4,
  "nbformat_minor": 0,
  "metadata": {
    "colab": {
      "name": "Project1-WordCount.ipynb",
      "provenance": [],
      "collapsed_sections": [],
      "include_colab_link": true
    },
    "kernelspec": {
      "name": "python3",
      "display_name": "Python 3"
    }
  },
  "cells": [
    {
      "cell_type": "markdown",
      "metadata": {
        "id": "view-in-github",
        "colab_type": "text"
      },
      "source": [
        "<a href=\"https://colab.research.google.com/github/talktovishal/NLP-ML-Projects/blob/master/Project1_WordCount.ipynb\" target=\"_parent\"><img src=\"https://colab.research.google.com/assets/colab-badge.svg\" alt=\"Open In Colab\"/></a>"
      ]
    },
    {
      "cell_type": "markdown",
      "metadata": {
        "id": "jLUlP6p_Veur",
        "colab_type": "text"
      },
      "source": [
        "1.       Download and parse Reuters dataset (done) -- https://archive.ics.uci.edu/ml/datasets/reuters-21578+text+categorization+collection \n",
        "2.       This is also available in nltk -- from nltk.corpus import reuters. You can use this if #1 gets too complicated. My hope is you will do #1, and verify it with the nltk corpus. (done)\n",
        "3.       For this corpus, do the following:\n",
        "*       Parse data into sentences, chars.\n",
        "*       Tokenize the data. What normalization do you need? Why? (done)\n",
        "*       Find number of documents, number sentences in a doc. Explore ‘interesting’ stats around sentences, words, chars. Plot the same (done)\n",
        "*       How many unigrams, bigrams? Plot frequency charts\n",
        "*       Remove stop words, do the same. (done)\n",
        "*        Read about TF-IDF. Contrast it with tokenization, stop word removal etc.\n",
        "*       Write TF-IDF from first principles. Now, create and store meta-data for the current corpus\n",
        "* Have a function that takes a document and plots the terms of the doc as measured by the TFIDF score. \n"
      ]
    },
    {
      "cell_type": "code",
      "metadata": {
        "id": "RGvXgqXaVwtK",
        "colab_type": "code",
        "outputId": "d82ada80-c7f4-424e-bb62-e40a93448cc8",
        "colab": {
          "base_uri": "https://localhost:8080/",
          "height": 35
        }
      },
      "source": [
        "import nltk\n",
        "nltk.download('reuters')\n",
        "from nltk.corpus import reuters\n"
      ],
      "execution_count": 1,
      "outputs": [
        {
          "output_type": "stream",
          "text": [
            "[nltk_data] Downloading package reuters to /root/nltk_data...\n"
          ],
          "name": "stdout"
        }
      ]
    },
    {
      "cell_type": "code",
      "metadata": {
        "id": "KBDw9NkkV_H2",
        "colab_type": "code",
        "colab": {}
      },
      "source": [
        "#https://www.nltk.org/book/ch02.html\n",
        "def get_corpus_documents():\n",
        "  #all documents in the corpus\n",
        "  documents = reuters.fileids()\n",
        "  print(f\"The reuters corpus has {len(documents)} documents.\");\n",
        "  return documents\n",
        "\n",
        "def get_document_text(document_id):\n",
        "  return  reuters.raw(document_id);\n",
        "\n",
        "def get_words(document_id):\n",
        "  #the words\n",
        "  return  reuters.words(document_id);\n"
      ],
      "execution_count": 0,
      "outputs": []
    },
    {
      "cell_type": "code",
      "metadata": {
        "id": "MeCSWq8wYaog",
        "colab_type": "code",
        "outputId": "57ff877d-2bae-40da-a7c8-604afc64655e",
        "colab": {
          "base_uri": "https://localhost:8080/",
          "height": 1000
        }
      },
      "source": [
        "import nltk.data\n",
        "nltk.download('punkt')\n",
        "sentence_detection = nltk.data.load('tokenizers/punkt/english.pickle')\n",
        "#https://www.nltk.org/api/nltk.tokenize.html\n",
        "def extract_sentences(text):\n",
        "  return sentence_detection.tokenize(text)\n",
        "\n",
        "all_documents = get_corpus_documents()\n",
        "#get a complete document\n",
        "document_id = all_documents[0]\n",
        "document_text = get_document_text(document_id)\n",
        "\n",
        "print('\\n-----\\n'.join(extract_sentences(document_text)))"
      ],
      "execution_count": 3,
      "outputs": [
        {
          "output_type": "stream",
          "text": [
            "[nltk_data] Downloading package punkt to /root/nltk_data...\n",
            "[nltk_data]   Unzipping tokenizers/punkt.zip.\n",
            "The reuters corpus has 10788 documents.\n",
            "ASIAN EXPORTERS FEAR DAMAGE FROM U.S.-JAPAN RIFT\n",
            "  Mounting trade friction between the\n",
            "  U.S. And Japan has raised fears among many of Asia's exporting\n",
            "  nations that the row could inflict far-reaching economic\n",
            "  damage, businessmen and officials said.\n",
            "-----\n",
            "They told Reuter correspondents in Asian capitals a U.S.\n",
            "  Move against Japan might boost protectionist sentiment in the\n",
            "  U.S. And lead to curbs on American imports of their products.\n",
            "-----\n",
            "But some exporters said that while the conflict would hurt\n",
            "  them in the long-run, in the short-term Tokyo's loss might be\n",
            "  their gain.\n",
            "-----\n",
            "The U.S. Has said it will impose 300 mln dlrs of tariffs on\n",
            "  imports of Japanese electronics goods on April 17, in\n",
            "  retaliation for Japan's alleged failure to stick to a pact not\n",
            "  to sell semiconductors on world markets at below cost.\n",
            "-----\n",
            "Unofficial Japanese estimates put the impact of the tariffs\n",
            "  at 10 billion dlrs and spokesmen for major electronics firms\n",
            "  said they would virtually halt exports of products hit by the\n",
            "  new taxes.\n",
            "-----\n",
            "\"We wouldn't be able to do business,\" said a spokesman for\n",
            "  leading Japanese electronics firm Matsushita Electric\n",
            "  Industrial Co Ltd &lt;MC.T>.\n",
            "-----\n",
            "\"If the tariffs remain in place for any length of time\n",
            "  beyond a few months it will mean the complete erosion of\n",
            "  exports (of goods subject to tariffs) to the U.S.,\" said Tom\n",
            "  Murtha, a stock analyst at the Tokyo office of broker &lt;James\n",
            "  Capel and Co>.\n",
            "-----\n",
            "In Taiwan, businessmen and officials are also worried.\n",
            "-----\n",
            "\"We are aware of the seriousness of the U.S.\n",
            "-----\n",
            "Threat against\n",
            "  Japan because it serves as a warning to us,\" said a senior\n",
            "  Taiwanese trade official who asked not to be named.\n",
            "-----\n",
            "Taiwan had a trade trade surplus of 15.6 billion dlrs last\n",
            "  year, 95 pct of it with the U.S.\n",
            "-----\n",
            "The surplus helped swell Taiwan's foreign exchange reserves\n",
            "  to 53 billion dlrs, among the world's largest.\n",
            "-----\n",
            "\"We must quickly open our markets, remove trade barriers and\n",
            "  cut import tariffs to allow imports of U.S. Products, if we\n",
            "  want to defuse problems from possible U.S.\n",
            "-----\n",
            "Retaliation,\" said\n",
            "  Paul Sheen, chairman of textile exporters &lt;Taiwan Safe Group>.\n",
            "-----\n",
            "A senior official of South Korea's trade promotion\n",
            "  association said the trade dispute between the U.S. And Japan\n",
            "  might also lead to pressure on South Korea, whose chief exports\n",
            "  are similar to those of Japan.\n",
            "-----\n",
            "Last year South Korea had a trade surplus of 7.1 billion\n",
            "  dlrs with the U.S., Up from 4.9 billion dlrs in 1985.\n",
            "-----\n",
            "In Malaysia, trade officers and businessmen said tough\n",
            "  curbs against Japan might allow hard-hit producers of\n",
            "  semiconductors in third countries to expand their sales to the\n",
            "  U.S.\n",
            "-----\n",
            "In Hong Kong, where newspapers have alleged Japan has been\n",
            "  selling below-cost semiconductors, some electronics\n",
            "  manufacturers share that view.\n",
            "-----\n",
            "But other businessmen said such\n",
            "  a short-term commercial advantage would be outweighed by\n",
            "  further U.S. Pressure to block imports.\n",
            "-----\n",
            "\"That is a very short-term view,\" said Lawrence Mills,\n",
            "  director-general of the Federation of Hong Kong Industry.\n",
            "-----\n",
            "\"If the whole purpose is to prevent imports, one day it will\n",
            "  be extended to other sources.\n",
            "-----\n",
            "Much more serious for Hong Kong\n",
            "  is the disadvantage of action restraining trade,\" he said.\n",
            "-----\n",
            "The U.S. Last year was Hong Kong's biggest export market,\n",
            "  accounting for over 30 pct of domestically produced exports.\n",
            "-----\n",
            "The Australian government is awaiting the outcome of trade\n",
            "  talks between the U.S. And Japan with interest and concern,\n",
            "  Industry Minister John Button said in Canberra last Friday.\n",
            "-----\n",
            "\"This kind of deterioration in trade relations between two\n",
            "  countries which are major trading partners of ours is a very\n",
            "  serious matter,\" Button said.\n",
            "-----\n",
            "He said Australia's concerns centred on coal and beef,\n",
            "  Australia's two largest exports to Japan and also significant\n",
            "  U.S. Exports to that country.\n",
            "-----\n",
            "Meanwhile U.S.-Japanese diplomatic manoeuvres to solve the\n",
            "  trade stand-off continue.\n",
            "-----\n",
            "Japan's ruling Liberal Democratic Party yesterday outlined\n",
            "  a package of economic measures to boost the Japanese economy.\n",
            "-----\n",
            "The measures proposed include a large supplementary budget\n",
            "  and record public works spending in the first half of the\n",
            "  financial year.\n",
            "-----\n",
            "They also call for stepped-up spending as an emergency\n",
            "  measure to stimulate the economy despite Prime Minister\n",
            "  Yasuhiro Nakasone's avowed fiscal reform program.\n",
            "-----\n",
            "Deputy U.S. Trade Representative Michael Smith and Makoto\n",
            "  Kuroda, Japan's deputy minister of International Trade and\n",
            "  Industry (MITI), are due to meet in Washington this week in an\n",
            "  effort to end the dispute.\n"
          ],
          "name": "stdout"
        }
      ]
    },
    {
      "cell_type": "code",
      "metadata": {
        "id": "Mjnvr-WreDLC",
        "colab_type": "code",
        "colab": {}
      },
      "source": [
        "import pandas as pd "
      ],
      "execution_count": 0,
      "outputs": []
    },
    {
      "cell_type": "code",
      "metadata": {
        "id": "kXLhsqzEli-E",
        "colab_type": "code",
        "colab": {}
      },
      "source": [
        "#add multiple rows to a pd dataframe\n",
        "#fastest way to do this is via a dict\n",
        "#https://stackoverflow.com/a/47979665\n",
        "\n",
        "rows_list = []\n",
        "for documentId in all_documents:\n",
        "  document_text = get_document_text(documentId)\n",
        "  # get input row in dictionary format\n",
        "  dict = {'DocumentId': documentId, 'SentenceCount': len(extract_sentences(document_text))}\n",
        "  rows_list.append(dict)\n",
        "\n",
        "df = pd.DataFrame(rows_list)   \n",
        "\n"
      ],
      "execution_count": 0,
      "outputs": []
    },
    {
      "cell_type": "code",
      "metadata": {
        "id": "lYHI48BumQ2b",
        "colab_type": "code",
        "outputId": "6804b4fb-bcd4-433f-c67b-050176913ea7",
        "colab": {
          "base_uri": "https://localhost:8080/",
          "height": 35
        }
      },
      "source": [
        "print(f'allDocuments is of type = {type(all_documents)} and length = {len(all_documents)}')"
      ],
      "execution_count": 6,
      "outputs": [
        {
          "output_type": "stream",
          "text": [
            "allDocuments is of type = <class 'list'> and length = 10788\n"
          ],
          "name": "stdout"
        }
      ]
    },
    {
      "cell_type": "code",
      "metadata": {
        "id": "6HPolbFQoLha",
        "colab_type": "code",
        "outputId": "47a87da2-5485-4c30-e0e9-9e8efc4edad6",
        "colab": {
          "base_uri": "https://localhost:8080/",
          "height": 415
        }
      },
      "source": [
        "df"
      ],
      "execution_count": 7,
      "outputs": [
        {
          "output_type": "execute_result",
          "data": {
            "text/html": [
              "<div>\n",
              "<style scoped>\n",
              "    .dataframe tbody tr th:only-of-type {\n",
              "        vertical-align: middle;\n",
              "    }\n",
              "\n",
              "    .dataframe tbody tr th {\n",
              "        vertical-align: top;\n",
              "    }\n",
              "\n",
              "    .dataframe thead th {\n",
              "        text-align: right;\n",
              "    }\n",
              "</style>\n",
              "<table border=\"1\" class=\"dataframe\">\n",
              "  <thead>\n",
              "    <tr style=\"text-align: right;\">\n",
              "      <th></th>\n",
              "      <th>DocumentId</th>\n",
              "      <th>SentenceCount</th>\n",
              "    </tr>\n",
              "  </thead>\n",
              "  <tbody>\n",
              "    <tr>\n",
              "      <th>0</th>\n",
              "      <td>test/14826</td>\n",
              "      <td>31</td>\n",
              "    </tr>\n",
              "    <tr>\n",
              "      <th>1</th>\n",
              "      <td>test/14828</td>\n",
              "      <td>5</td>\n",
              "    </tr>\n",
              "    <tr>\n",
              "      <th>2</th>\n",
              "      <td>test/14829</td>\n",
              "      <td>6</td>\n",
              "    </tr>\n",
              "    <tr>\n",
              "      <th>3</th>\n",
              "      <td>test/14832</td>\n",
              "      <td>7</td>\n",
              "    </tr>\n",
              "    <tr>\n",
              "      <th>4</th>\n",
              "      <td>test/14833</td>\n",
              "      <td>6</td>\n",
              "    </tr>\n",
              "    <tr>\n",
              "      <th>...</th>\n",
              "      <td>...</td>\n",
              "      <td>...</td>\n",
              "    </tr>\n",
              "    <tr>\n",
              "      <th>10783</th>\n",
              "      <td>training/999</td>\n",
              "      <td>2</td>\n",
              "    </tr>\n",
              "    <tr>\n",
              "      <th>10784</th>\n",
              "      <td>training/9992</td>\n",
              "      <td>1</td>\n",
              "    </tr>\n",
              "    <tr>\n",
              "      <th>10785</th>\n",
              "      <td>training/9993</td>\n",
              "      <td>1</td>\n",
              "    </tr>\n",
              "    <tr>\n",
              "      <th>10786</th>\n",
              "      <td>training/9994</td>\n",
              "      <td>1</td>\n",
              "    </tr>\n",
              "    <tr>\n",
              "      <th>10787</th>\n",
              "      <td>training/9995</td>\n",
              "      <td>2</td>\n",
              "    </tr>\n",
              "  </tbody>\n",
              "</table>\n",
              "<p>10788 rows × 2 columns</p>\n",
              "</div>"
            ],
            "text/plain": [
              "          DocumentId  SentenceCount\n",
              "0         test/14826             31\n",
              "1         test/14828              5\n",
              "2         test/14829              6\n",
              "3         test/14832              7\n",
              "4         test/14833              6\n",
              "...              ...            ...\n",
              "10783   training/999              2\n",
              "10784  training/9992              1\n",
              "10785  training/9993              1\n",
              "10786  training/9994              1\n",
              "10787  training/9995              2\n",
              "\n",
              "[10788 rows x 2 columns]"
            ]
          },
          "metadata": {
            "tags": []
          },
          "execution_count": 7
        }
      ]
    },
    {
      "cell_type": "code",
      "metadata": {
        "id": "LKfDs4L8o_iT",
        "colab_type": "code",
        "outputId": "38df5adf-cdec-4c6b-f30f-638ac1e3f98e",
        "colab": {
          "base_uri": "https://localhost:8080/",
          "height": 316
        }
      },
      "source": [
        "df.hist(column='SentenceCount', color = 'blue', edgecolor = 'black', alpha = 0.3, bins = int(40))"
      ],
      "execution_count": 13,
      "outputs": [
        {
          "output_type": "execute_result",
          "data": {
            "text/plain": [
              "array([[<matplotlib.axes._subplots.AxesSubplot object at 0x7fb925e5a4a8>]],\n",
              "      dtype=object)"
            ]
          },
          "metadata": {
            "tags": []
          },
          "execution_count": 13
        },
        {
          "output_type": "display_data",
          "data": {
            "image/png": "[encoded data removed]",
            "text/plain": [
              "<Figure size 432x288 with 1 Axes>"
            ]
          },
          "metadata": {
            "tags": []
          }
        }
      ]
    },
    {
      "cell_type": "code",
      "metadata": {
        "id": "evbKe8PppNeP",
        "colab_type": "code",
        "outputId": "60c4e716-98fd-41be-d32f-2d6a2d48bcfd",
        "colab": {
          "base_uri": "https://localhost:8080/",
          "height": 298
        }
      },
      "source": [
        "from matplotlib.ticker import StrMethodFormatter\n",
        "\n",
        "#plot with additional styling.\n",
        "#ref= https://mode.com/example-gallery/python_histogram/\n",
        "ax = df.hist(column='SentenceCount', color = 'blue', edgecolor = 'black', alpha = 0.3, bins = int(40))\n",
        "ax = ax[0]\n",
        "for x in ax:\n",
        "\n",
        "    # Despine\n",
        "    x.spines['right'].set_visible(False)\n",
        "    x.spines['top'].set_visible(False)\n",
        "    x.spines['left'].set_visible(False)\n",
        "\n",
        "    # Switch off ticks\n",
        "    x.tick_params(axis=\"both\", which=\"both\", bottom=\"off\", top=\"off\", labelbottom=\"on\", left=\"off\", right=\"off\", labelleft=\"on\")\n",
        "\n",
        "    # Draw horizontal axis lines\n",
        "    vals = x.get_yticks()\n",
        "    for tick in vals:\n",
        "        x.axhline(y=tick, linestyle='dashed', alpha=0.4, color='#eeeeee', zorder=1)\n",
        "\n",
        "    # Remove title\n",
        "    x.set_title(\"\")\n",
        "\n",
        "    # Set x-axis label\n",
        "    x.set_xlabel(\"Sentence Count Distribution\", labelpad=20, weight='bold', size=12)\n",
        "\n",
        "    # Set y-axis label\n",
        "    x.set_ylabel(\"Document Count\", labelpad=20, weight='bold', size=12)\n",
        "\n",
        "    # Format y-axis label\n",
        "    x.yaxis.set_major_formatter(StrMethodFormatter('{x:,g}'))\n"
      ],
      "execution_count": 15,
      "outputs": [
        {
          "output_type": "display_data",
          "data": {
            "image/png": "[encoded data removed]",
            "text/plain": [
              "<Figure size 432x288 with 1 Axes>"
            ]
          },
          "metadata": {
            "tags": []
          }
        }
      ]
    },
    {
      "cell_type": "code",
      "metadata": {
        "id": "SNuL5mqKWGUF",
        "colab_type": "code",
        "colab": {
          "base_uri": "https://localhost:8080/",
          "height": 294
        },
        "outputId": "60f92005-f002-4ad0-dd30-d5f05d4fd343"
      },
      "source": [
        "df.describe()"
      ],
      "execution_count": 16,
      "outputs": [
        {
          "output_type": "execute_result",
          "data": {
            "text/html": [
              "<div>\n",
              "<style scoped>\n",
              "    .dataframe tbody tr th:only-of-type {\n",
              "        vertical-align: middle;\n",
              "    }\n",
              "\n",
              "    .dataframe tbody tr th {\n",
              "        vertical-align: top;\n",
              "    }\n",
              "\n",
              "    .dataframe thead th {\n",
              "        text-align: right;\n",
              "    }\n",
              "</style>\n",
              "<table border=\"1\" class=\"dataframe\">\n",
              "  <thead>\n",
              "    <tr style=\"text-align: right;\">\n",
              "      <th></th>\n",
              "      <th>SentenceCount</th>\n",
              "    </tr>\n",
              "  </thead>\n",
              "  <tbody>\n",
              "    <tr>\n",
              "      <th>count</th>\n",
              "      <td>10788.000000</td>\n",
              "    </tr>\n",
              "    <tr>\n",
              "      <th>mean</th>\n",
              "      <td>4.986281</td>\n",
              "    </tr>\n",
              "    <tr>\n",
              "      <th>std</th>\n",
              "      <td>5.710321</td>\n",
              "    </tr>\n",
              "    <tr>\n",
              "      <th>min</th>\n",
              "      <td>1.000000</td>\n",
              "    </tr>\n",
              "    <tr>\n",
              "      <th>25%</th>\n",
              "      <td>1.000000</td>\n",
              "    </tr>\n",
              "    <tr>\n",
              "      <th>50%</th>\n",
              "      <td>3.000000</td>\n",
              "    </tr>\n",
              "    <tr>\n",
              "      <th>75%</th>\n",
              "      <td>6.000000</td>\n",
              "    </tr>\n",
              "    <tr>\n",
              "      <th>max</th>\n",
              "      <td>62.000000</td>\n",
              "    </tr>\n",
              "  </tbody>\n",
              "</table>\n",
              "</div>"
            ],
            "text/plain": [
              "       SentenceCount\n",
              "count   10788.000000\n",
              "mean        4.986281\n",
              "std         5.710321\n",
              "min         1.000000\n",
              "25%         1.000000\n",
              "50%         3.000000\n",
              "75%         6.000000\n",
              "max        62.000000"
            ]
          },
          "metadata": {
            "tags": []
          },
          "execution_count": 16
        }
      ]
    },
    {
      "cell_type": "code",
      "metadata": {
        "id": "G6C4qxh3Wqup",
        "colab_type": "code",
        "colab": {
          "base_uri": "https://localhost:8080/",
          "height": 79
        },
        "outputId": "93987737-a0e6-47f1-b7ee-2671facbbeab"
      },
      "source": [
        "summary = df.describe().transpose()\n",
        "summary[['count', 'mean', '50%', 'min', 'max']]"
      ],
      "execution_count": 17,
      "outputs": [
        {
          "output_type": "execute_result",
          "data": {
            "text/html": [
              "<div>\n",
              "<style scoped>\n",
              "    .dataframe tbody tr th:only-of-type {\n",
              "        vertical-align: middle;\n",
              "    }\n",
              "\n",
              "    .dataframe tbody tr th {\n",
              "        vertical-align: top;\n",
              "    }\n",
              "\n",
              "    .dataframe thead th {\n",
              "        text-align: right;\n",
              "    }\n",
              "</style>\n",
              "<table border=\"1\" class=\"dataframe\">\n",
              "  <thead>\n",
              "    <tr style=\"text-align: right;\">\n",
              "      <th></th>\n",
              "      <th>count</th>\n",
              "      <th>mean</th>\n",
              "      <th>50%</th>\n",
              "      <th>min</th>\n",
              "      <th>max</th>\n",
              "    </tr>\n",
              "  </thead>\n",
              "  <tbody>\n",
              "    <tr>\n",
              "      <th>SentenceCount</th>\n",
              "      <td>10788.0</td>\n",
              "      <td>4.986281</td>\n",
              "      <td>3.0</td>\n",
              "      <td>1.0</td>\n",
              "      <td>62.0</td>\n",
              "    </tr>\n",
              "  </tbody>\n",
              "</table>\n",
              "</div>"
            ],
            "text/plain": [
              "                 count      mean  50%  min   max\n",
              "SentenceCount  10788.0  4.986281  3.0  1.0  62.0"
            ]
          },
          "metadata": {
            "tags": []
          },
          "execution_count": 17
        }
      ]
    },
    {
      "cell_type": "code",
      "metadata": {
        "id": "J8D7_Rthpmcm",
        "colab_type": "code",
        "colab": {}
      },
      "source": [
        "#look at words\n",
        "from nltk.stem import PorterStemmer\n",
        "from nltk.stem.snowball import SnowballStemmer\n"
      ],
      "execution_count": 0,
      "outputs": []
    },
    {
      "cell_type": "code",
      "metadata": {
        "id": "4O3LJcVAshw9",
        "colab_type": "code",
        "outputId": "95ceea99-35c8-4f63-c733-7781f749acdb",
        "colab": {
          "base_uri": "https://localhost:8080/",
          "height": 52
        }
      },
      "source": [
        "#for stop words\n",
        "nltk.download('stopwords')\n",
        "from nltk.corpus import stopwords\n",
        "\n",
        "#englishStemmer = SnowballStemmer(language=\"english\", ignore_stopwords=True)\n",
        "englishStemmer = PorterStemmer()\n"
      ],
      "execution_count": 19,
      "outputs": [
        {
          "output_type": "stream",
          "text": [
            "[nltk_data] Downloading package stopwords to /root/nltk_data...\n",
            "[nltk_data]   Unzipping corpora/stopwords.zip.\n"
          ],
          "name": "stdout"
        }
      ]
    },
    {
      "cell_type": "code",
      "metadata": {
        "id": "t4q_PT6CvLo3",
        "colab_type": "code",
        "outputId": "923d83d3-dcc6-430c-aff2-6917bb1461c7",
        "colab": {
          "base_uri": "https://localhost:8080/",
          "height": 121
        }
      },
      "source": [
        "from nltk.tokenize import word_tokenize\n",
        "from nltk.stem.wordnet import WordNetLemmatizer\n",
        "import string\n",
        "\n",
        "lemmatizer = WordNetLemmatizer()\n",
        "\n",
        "#lemmatizer code from https://simonhessner.de/lemmatize-whole-sentences-with-python-and-nltks-wordnetlemmatizer/\n",
        "from nltk.corpus import wordnet\n",
        "nltk.download('averaged_perceptron_tagger')\n",
        "nltk.download('wordnet')\n",
        "def nltk2wn_tag(nltk_tag):\n",
        "  if nltk_tag.startswith('J'):\n",
        "    return wordnet.ADJ\n",
        "  elif nltk_tag.startswith('V'):\n",
        "    return wordnet.VERB\n",
        "  elif nltk_tag.startswith('N'):\n",
        "    return wordnet.NOUN\n",
        "  elif nltk_tag.startswith('R'):\n",
        "    return wordnet.ADV\n",
        "  else:          \n",
        "    return None\n",
        "\n",
        "def lemmatize_sentence(sentence):\n",
        "  nltk_tagged = nltk.pos_tag(nltk.word_tokenize(sentence))  \n",
        "  wn_tagged = map(lambda x: (x[0], nltk2wn_tag(x[1])), nltk_tagged)\n",
        "  res_words = []\n",
        "  for word, tag in wn_tagged:\n",
        "    if tag is None:            \n",
        "      res_words.append(word)\n",
        "    else:\n",
        "      res_words.append(lemmatizer.lemmatize(word, tag))\n",
        "  return res_words\n",
        "\n",
        "import re\n",
        "# If you need to use the regex more than once it is suggested to compile it.\n",
        "notStartsWithAlphaNumber = re.compile(r\"[^\\w\\s]\")\n",
        "onlyDigits = re.compile(r\"\\d+\")\n",
        "\n",
        "\n",
        "#NOTE: i am not removing stop words since i plan to use this for tf-idf calculation\n",
        "def normalizeAndLemmatizeSentence(sentence):\n",
        "  #lowercase\n",
        "  updatedSentence = sentence.lower()\n",
        "  #remove punctuations\n",
        "  \n",
        "  updatedSentence = updatedSentence.translate(str.maketrans('','',string.punctuation))\n",
        "\n",
        "  ## Remove punctuation, digits.\n",
        "  #to-do: i should have been agressive with preprocessing\n",
        "  #i get these even after removing stop words:\n",
        "  #  (('&', 'lt'), 8694),\n",
        "  #  (('lt', ';'), 8694),\n",
        "  #  (('mln', 'dlr'), 4819),\n",
        "  #  (('mln', 'vs'), 3916),\n",
        "  #  (('<s>', '``'), 3617),\n",
        "  #  ((',', \"''\"), 3449),\n",
        "\n",
        "  #\\w = a-z, 0-9  \n",
        "  updatedSentence = notStartsWithAlphaNumber.sub(\"\", updatedSentence)\n",
        "  updatedSentence = onlyDigits.sub(\"\", updatedSentence)\n",
        "\n",
        "  #lemmatization\n",
        "  return lemmatize_sentence(updatedSentence)\n"
      ],
      "execution_count": 30,
      "outputs": [
        {
          "output_type": "stream",
          "text": [
            "[nltk_data] Downloading package averaged_perceptron_tagger to\n",
            "[nltk_data]     /root/nltk_data...\n",
            "[nltk_data]   Package averaged_perceptron_tagger is already up-to-\n",
            "[nltk_data]       date!\n",
            "[nltk_data] Downloading package wordnet to /root/nltk_data...\n",
            "[nltk_data]   Package wordnet is already up-to-date!\n"
          ],
          "name": "stdout"
        }
      ]
    },
    {
      "cell_type": "code",
      "metadata": {
        "id": "By-_JBYetbt5",
        "colab_type": "code",
        "colab": {}
      },
      "source": [
        "rows_list = []\n",
        "for documentId in all_documents:\n",
        "  document_text = get_document_text(documentId)\n",
        "  # get input row in dictionary format\n",
        "  all_sentences = extract_sentences(document_text)\n",
        "  for sentence_index, sentence in enumerate(all_sentences):\n",
        "    words = word_tokenize(sentence)\n",
        "\n",
        "    dict = {\n",
        "        'DocumentId': documentId, \n",
        "        'SentenceId': sentence_index,\n",
        "        'Words': words,\n",
        "        'NormNLemmatizedWords': normalizeAndLemmatizeSentence(sentence),\n",
        "        'CharCount': len(sentence),\n",
        "        'WordCount': len(words)\n",
        "    }\n",
        "    rows_list.append(dict)\n",
        "\n",
        "df_words_chars = pd.DataFrame(rows_list)"
      ],
      "execution_count": 0,
      "outputs": []
    },
    {
      "cell_type": "code",
      "metadata": {
        "id": "Cjrfn8ktvsNF",
        "colab_type": "code",
        "outputId": "faba34c9-83de-4100-c965-cc0fa525062b",
        "colab": {
          "base_uri": "https://localhost:8080/",
          "height": 415
        }
      },
      "source": [
        "df_words_chars"
      ],
      "execution_count": 32,
      "outputs": [
        {
          "output_type": "execute_result",
          "data": {
            "text/html": [
              "<div>\n",
              "<style scoped>\n",
              "    .dataframe tbody tr th:only-of-type {\n",
              "        vertical-align: middle;\n",
              "    }\n",
              "\n",
              "    .dataframe tbody tr th {\n",
              "        vertical-align: top;\n",
              "    }\n",
              "\n",
              "    .dataframe thead th {\n",
              "        text-align: right;\n",
              "    }\n",
              "</style>\n",
              "<table border=\"1\" class=\"dataframe\">\n",
              "  <thead>\n",
              "    <tr style=\"text-align: right;\">\n",
              "      <th></th>\n",
              "      <th>DocumentId</th>\n",
              "      <th>SentenceId</th>\n",
              "      <th>Words</th>\n",
              "      <th>NormNLemmatizedWords</th>\n",
              "      <th>CharCount</th>\n",
              "      <th>WordCount</th>\n",
              "    </tr>\n",
              "  </thead>\n",
              "  <tbody>\n",
              "    <tr>\n",
              "      <th>0</th>\n",
              "      <td>test/14826</td>\n",
              "      <td>0</td>\n",
              "      <td>[ASIAN, EXPORTERS, FEAR, DAMAGE, FROM, U.S.-JA...</td>\n",
              "      <td>[asian, exporter, fear, damage, from, usjapan,...</td>\n",
              "      <td>252</td>\n",
              "      <td>39</td>\n",
              "    </tr>\n",
              "    <tr>\n",
              "      <th>1</th>\n",
              "      <td>test/14826</td>\n",
              "      <td>1</td>\n",
              "      <td>[They, told, Reuter, correspondents, in, Asian...</td>\n",
              "      <td>[they, tell, reuter, correspondent, in, asian,...</td>\n",
              "      <td>184</td>\n",
              "      <td>30</td>\n",
              "    </tr>\n",
              "    <tr>\n",
              "      <th>2</th>\n",
              "      <td>test/14826</td>\n",
              "      <td>2</td>\n",
              "      <td>[But, some, exporters, said, that, while, the,...</td>\n",
              "      <td>[but, some, exporter, say, that, while, the, c...</td>\n",
              "      <td>136</td>\n",
              "      <td>26</td>\n",
              "    </tr>\n",
              "    <tr>\n",
              "      <th>3</th>\n",
              "      <td>test/14826</td>\n",
              "      <td>3</td>\n",
              "      <td>[The, U.S., Has, said, it, will, impose, 300, ...</td>\n",
              "      <td>[the, us, have, say, it, will, impose, mln, dl...</td>\n",
              "      <td>237</td>\n",
              "      <td>45</td>\n",
              "    </tr>\n",
              "    <tr>\n",
              "      <th>4</th>\n",
              "      <td>test/14826</td>\n",
              "      <td>4</td>\n",
              "      <td>[Unofficial, Japanese, estimates, put, the, im...</td>\n",
              "      <td>[unofficial, japanese, estimate, put, the, imp...</td>\n",
              "      <td>199</td>\n",
              "      <td>33</td>\n",
              "    </tr>\n",
              "    <tr>\n",
              "      <th>...</th>\n",
              "      <td>...</td>\n",
              "      <td>...</td>\n",
              "      <td>...</td>\n",
              "      <td>...</td>\n",
              "      <td>...</td>\n",
              "      <td>...</td>\n",
              "    </tr>\n",
              "    <tr>\n",
              "      <th>53787</th>\n",
              "      <td>training/9992</td>\n",
              "      <td>0</td>\n",
              "      <td>[KNIGHT-RIDDER, INC, &amp;, lt, ;, KRN, &gt;, SETS, Q...</td>\n",
              "      <td>[knightridder, inc, ltkrn, set, quarterly, qtl...</td>\n",
              "      <td>117</td>\n",
              "      <td>23</td>\n",
              "    </tr>\n",
              "    <tr>\n",
              "      <th>53788</th>\n",
              "      <td>training/9993</td>\n",
              "      <td>0</td>\n",
              "      <td>[TECHNITROL, INC, &amp;, lt, ;, TNL, &gt;, SETS, QUAR...</td>\n",
              "      <td>[technitrol, inc, lttnl, set, quarterly, qtly,...</td>\n",
              "      <td>116</td>\n",
              "      <td>23</td>\n",
              "    </tr>\n",
              "    <tr>\n",
              "      <th>53789</th>\n",
              "      <td>training/9994</td>\n",
              "      <td>0</td>\n",
              "      <td>[NATIONWIDE, CELLULAR, SERVICE, INC, &amp;, lt, ;,...</td>\n",
              "      <td>[nationwide, cellular, service, inc, ltncel, t...</td>\n",
              "      <td>347</td>\n",
              "      <td>61</td>\n",
              "    </tr>\n",
              "    <tr>\n",
              "      <th>53790</th>\n",
              "      <td>training/9995</td>\n",
              "      <td>0</td>\n",
              "      <td>[&amp;, lt, ;, A.H.A, .]</td>\n",
              "      <td>[ltaha]</td>\n",
              "      <td>10</td>\n",
              "      <td>5</td>\n",
              "    </tr>\n",
              "    <tr>\n",
              "      <th>53791</th>\n",
              "      <td>training/9995</td>\n",
              "      <td>1</td>\n",
              "      <td>[AUTOMOTIVE, TECHNOLOGIES, CORP, &gt;, YEAR, NET,...</td>\n",
              "      <td>[automotive, technology, corp, year, net, shr,...</td>\n",
              "      <td>161</td>\n",
              "      <td>29</td>\n",
              "    </tr>\n",
              "  </tbody>\n",
              "</table>\n",
              "<p>53792 rows × 6 columns</p>\n",
              "</div>"
            ],
            "text/plain": [
              "          DocumentId  SentenceId  ... CharCount WordCount\n",
              "0         test/14826           0  ...       252        39\n",
              "1         test/14826           1  ...       184        30\n",
              "2         test/14826           2  ...       136        26\n",
              "3         test/14826           3  ...       237        45\n",
              "4         test/14826           4  ...       199        33\n",
              "...              ...         ...  ...       ...       ...\n",
              "53787  training/9992           0  ...       117        23\n",
              "53788  training/9993           0  ...       116        23\n",
              "53789  training/9994           0  ...       347        61\n",
              "53790  training/9995           0  ...        10         5\n",
              "53791  training/9995           1  ...       161        29\n",
              "\n",
              "[53792 rows x 6 columns]"
            ]
          },
          "metadata": {
            "tags": []
          },
          "execution_count": 32
        }
      ]
    },
    {
      "cell_type": "code",
      "metadata": {
        "id": "oNiUt4slwBpI",
        "colab_type": "code",
        "outputId": "da693fe5-3a19-48c4-f080-d0a6f7460160",
        "colab": {
          "base_uri": "https://localhost:8080/",
          "height": 333
        }
      },
      "source": [
        "df_words_chars.hist(column=['WordCount','CharCount'], color = 'blue', edgecolor = 'black', alpha = 0.3, bins = int(40))\n",
        "#to-do look at charts that socorro has -- https://github.com/sedv8808/Simple_Word_Counting/blob/master/Simple_Word_Counting.ipynb"
      ],
      "execution_count": 34,
      "outputs": [
        {
          "output_type": "execute_result",
          "data": {
            "text/plain": [
              "array([[<matplotlib.axes._subplots.AxesSubplot object at 0x7fb911242908>,\n",
              "        <matplotlib.axes._subplots.AxesSubplot object at 0x7fb911204ef0>]],\n",
              "      dtype=object)"
            ]
          },
          "metadata": {
            "tags": []
          },
          "execution_count": 34
        },
        {
          "output_type": "display_data",
          "data": {
            "image/png": "[encoded data removed]",
            "text/plain": [
              "<Figure size 432x288 with 2 Axes>"
            ]
          },
          "metadata": {
            "tags": []
          }
        }
      ]
    },
    {
      "cell_type": "code",
      "metadata": {
        "id": "Ktw_L7eFwQgh",
        "colab_type": "code",
        "outputId": "c3f6df8b-1536-48d4-dcf9-9e9b2946393c",
        "colab": {
          "base_uri": "https://localhost:8080/",
          "height": 558
        }
      },
      "source": [
        "#plt.hist(data, bins=range(min(data), max(data) + binwidth, binwidth))\n",
        "df_words_chars.hist(column=['CharCount'], bins=10000)\n",
        "df_words_chars.describe()\n"
      ],
      "execution_count": 35,
      "outputs": [
        {
          "output_type": "execute_result",
          "data": {
            "text/html": [
              "<div>\n",
              "<style scoped>\n",
              "    .dataframe tbody tr th:only-of-type {\n",
              "        vertical-align: middle;\n",
              "    }\n",
              "\n",
              "    .dataframe tbody tr th {\n",
              "        vertical-align: top;\n",
              "    }\n",
              "\n",
              "    .dataframe thead th {\n",
              "        text-align: right;\n",
              "    }\n",
              "</style>\n",
              "<table border=\"1\" class=\"dataframe\">\n",
              "  <thead>\n",
              "    <tr style=\"text-align: right;\">\n",
              "      <th></th>\n",
              "      <th>SentenceId</th>\n",
              "      <th>CharCount</th>\n",
              "      <th>WordCount</th>\n",
              "    </tr>\n",
              "  </thead>\n",
              "  <tbody>\n",
              "    <tr>\n",
              "      <th>count</th>\n",
              "      <td>53792.000000</td>\n",
              "      <td>53792.000000</td>\n",
              "      <td>53792.000000</td>\n",
              "    </tr>\n",
              "    <tr>\n",
              "      <th>mean</th>\n",
              "      <td>5.262586</td>\n",
              "      <td>158.816088</td>\n",
              "      <td>28.786288</td>\n",
              "    </tr>\n",
              "    <tr>\n",
              "      <th>std</th>\n",
              "      <td>6.345458</td>\n",
              "      <td>87.285067</td>\n",
              "      <td>14.752599</td>\n",
              "    </tr>\n",
              "    <tr>\n",
              "      <th>min</th>\n",
              "      <td>0.000000</td>\n",
              "      <td>1.000000</td>\n",
              "      <td>1.000000</td>\n",
              "    </tr>\n",
              "    <tr>\n",
              "      <th>25%</th>\n",
              "      <td>1.000000</td>\n",
              "      <td>103.000000</td>\n",
              "      <td>19.000000</td>\n",
              "    </tr>\n",
              "    <tr>\n",
              "      <th>50%</th>\n",
              "      <td>3.000000</td>\n",
              "      <td>149.000000</td>\n",
              "      <td>27.000000</td>\n",
              "    </tr>\n",
              "    <tr>\n",
              "      <th>75%</th>\n",
              "      <td>7.000000</td>\n",
              "      <td>203.000000</td>\n",
              "      <td>36.000000</td>\n",
              "    </tr>\n",
              "    <tr>\n",
              "      <th>max</th>\n",
              "      <td>61.000000</td>\n",
              "      <td>3781.000000</td>\n",
              "      <td>429.000000</td>\n",
              "    </tr>\n",
              "  </tbody>\n",
              "</table>\n",
              "</div>"
            ],
            "text/plain": [
              "         SentenceId     CharCount     WordCount\n",
              "count  53792.000000  53792.000000  53792.000000\n",
              "mean       5.262586    158.816088     28.786288\n",
              "std        6.345458     87.285067     14.752599\n",
              "min        0.000000      1.000000      1.000000\n",
              "25%        1.000000    103.000000     19.000000\n",
              "50%        3.000000    149.000000     27.000000\n",
              "75%        7.000000    203.000000     36.000000\n",
              "max       61.000000   3781.000000    429.000000"
            ]
          },
          "metadata": {
            "tags": []
          },
          "execution_count": 35
        },
        {
          "output_type": "display_data",
          "data": {
            "image/png": "[encoded data removed]",
            "text/plain": [
              "<Figure size 432x288 with 1 Axes>"
            ]
          },
          "metadata": {
            "tags": []
          }
        }
      ]
    },
    {
      "cell_type": "code",
      "metadata": {
        "id": "68fjVNe6xs9n",
        "colab_type": "code",
        "outputId": "ae1b40d1-e4a9-491c-e4d1-03a7a2898c24",
        "colab": {
          "base_uri": "https://localhost:8080/",
          "height": 141
        }
      },
      "source": [
        "df_words_chars.describe().transpose()\n"
      ],
      "execution_count": 36,
      "outputs": [
        {
          "output_type": "execute_result",
          "data": {
            "text/html": [
              "<div>\n",
              "<style scoped>\n",
              "    .dataframe tbody tr th:only-of-type {\n",
              "        vertical-align: middle;\n",
              "    }\n",
              "\n",
              "    .dataframe tbody tr th {\n",
              "        vertical-align: top;\n",
              "    }\n",
              "\n",
              "    .dataframe thead th {\n",
              "        text-align: right;\n",
              "    }\n",
              "</style>\n",
              "<table border=\"1\" class=\"dataframe\">\n",
              "  <thead>\n",
              "    <tr style=\"text-align: right;\">\n",
              "      <th></th>\n",
              "      <th>count</th>\n",
              "      <th>mean</th>\n",
              "      <th>std</th>\n",
              "      <th>min</th>\n",
              "      <th>25%</th>\n",
              "      <th>50%</th>\n",
              "      <th>75%</th>\n",
              "      <th>max</th>\n",
              "    </tr>\n",
              "  </thead>\n",
              "  <tbody>\n",
              "    <tr>\n",
              "      <th>SentenceId</th>\n",
              "      <td>53792.0</td>\n",
              "      <td>5.262586</td>\n",
              "      <td>6.345458</td>\n",
              "      <td>0.0</td>\n",
              "      <td>1.0</td>\n",
              "      <td>3.0</td>\n",
              "      <td>7.0</td>\n",
              "      <td>61.0</td>\n",
              "    </tr>\n",
              "    <tr>\n",
              "      <th>CharCount</th>\n",
              "      <td>53792.0</td>\n",
              "      <td>158.816088</td>\n",
              "      <td>87.285067</td>\n",
              "      <td>1.0</td>\n",
              "      <td>103.0</td>\n",
              "      <td>149.0</td>\n",
              "      <td>203.0</td>\n",
              "      <td>3781.0</td>\n",
              "    </tr>\n",
              "    <tr>\n",
              "      <th>WordCount</th>\n",
              "      <td>53792.0</td>\n",
              "      <td>28.786288</td>\n",
              "      <td>14.752599</td>\n",
              "      <td>1.0</td>\n",
              "      <td>19.0</td>\n",
              "      <td>27.0</td>\n",
              "      <td>36.0</td>\n",
              "      <td>429.0</td>\n",
              "    </tr>\n",
              "  </tbody>\n",
              "</table>\n",
              "</div>"
            ],
            "text/plain": [
              "              count        mean        std  min    25%    50%    75%     max\n",
              "SentenceId  53792.0    5.262586   6.345458  0.0    1.0    3.0    7.0    61.0\n",
              "CharCount   53792.0  158.816088  87.285067  1.0  103.0  149.0  203.0  3781.0\n",
              "WordCount   53792.0   28.786288  14.752599  1.0   19.0   27.0   36.0   429.0"
            ]
          },
          "metadata": {
            "tags": []
          },
          "execution_count": 36
        }
      ]
    },
    {
      "cell_type": "code",
      "metadata": {
        "id": "-M6o4kHSL9E0",
        "colab_type": "code",
        "outputId": "3616eb25-1908-44b3-ca0b-d6f3b2056153",
        "colab": {
          "base_uri": "https://localhost:8080/",
          "height": 283
        }
      },
      "source": [
        "#feedback from socorro: to-do: Why sentenceId is being plotted?\n",
        "#If you need sentenceCount, that's absent so you need to do a group-by\n",
        "#the default options for plot is NOT a good choice here.\n",
        "df_words_chars.plot()"
      ],
      "execution_count": 37,
      "outputs": [
        {
          "output_type": "execute_result",
          "data": {
            "text/plain": [
              "<matplotlib.axes._subplots.AxesSubplot at 0x7fb90a7cdf28>"
            ]
          },
          "metadata": {
            "tags": []
          },
          "execution_count": 37
        },
        {
          "output_type": "display_data",
          "data": {
            "image/png": "[encoded data removed]",
            "text/plain": [
              "<Figure size 432x288 with 1 Axes>"
            ]
          },
          "metadata": {
            "tags": []
          }
        }
      ]
    },
    {
      "cell_type": "markdown",
      "metadata": {
        "id": "BATejXfiPHx6",
        "colab_type": "text"
      },
      "source": [
        "More visualization is @ https://pandas.pydata.org/pandas-docs/stable/user_guide/visualization.html#visualization-hist"
      ]
    },
    {
      "cell_type": "code",
      "metadata": {
        "id": "r3EgPVWNPMp6",
        "colab_type": "code",
        "colab": {}
      },
      "source": [
        "from nltk.util import ngrams\n",
        "stop_words = set(stopwords.words('english')) \n",
        "\n",
        "#get with start and stop symbols\n",
        "def getBigrams(words):\n",
        "  return list(ngrams(words, 2, pad_left=True, pad_right=True, left_pad_symbol='<s>', right_pad_symbol='</s>'))\n",
        "\n",
        "def getBigramsWithStemming(words, skipStopWords = False):\n",
        "  stemmed_words = [englishStemmer.stem(word) for word in words]\n",
        "  if(skipStopWords):\n",
        "    filtered_stemmed_words = [w for w in stemmed_words if not w in stop_words]\n",
        "  else:\n",
        "    filtered_stemmed_words = stemmed_words\n",
        "  #print(stopwords.words('english'))\n",
        "  #print(filtered_stemmed_words)\n",
        "  return list(ngrams(filtered_stemmed_words , 2, pad_left=True, pad_right=True, left_pad_symbol='<s>', right_pad_symbol='</s>'))\n",
        "\n",
        "\n",
        "#print(getBigramsWithStemming(['when','am','i','going','to','the','shop','?']))\n",
        "#print(getBigramsWithStemming(['when','am','i','going','to','the','shop','?'], skipStopWords=True))"
      ],
      "execution_count": 0,
      "outputs": []
    },
    {
      "cell_type": "code",
      "metadata": {
        "id": "MUi3a0i8RlPG",
        "colab_type": "code",
        "colab": {}
      },
      "source": [
        "df_words_chars['BiGrams']= df_words_chars['Words'].apply(lambda row: getBigrams(row))\n",
        "df_words_chars['BiGramsWithStemming']= df_words_chars['Words'].apply(lambda row: getBigramsWithStemming(row))\n",
        "\n",
        "#also use normalized words....\n",
        "df_words_chars['BiGramsWithStemmingNoStopWords']= df_words_chars['NormNLemmatizedWords'].apply(lambda row: getBigramsWithStemming(row, skipStopWords=True))\n"
      ],
      "execution_count": 0,
      "outputs": []
    },
    {
      "cell_type": "code",
      "metadata": {
        "id": "eLiq28fjW0Uh",
        "colab_type": "code",
        "outputId": "afaccbc6-0518-4ed5-cc72-acbdde1f262f",
        "colab": {
          "base_uri": "https://localhost:8080/",
          "height": 415
        }
      },
      "source": [
        "df_words_chars"
      ],
      "execution_count": 49,
      "outputs": [
        {
          "output_type": "execute_result",
          "data": {
            "text/html": [
              "<div>\n",
              "<style scoped>\n",
              "    .dataframe tbody tr th:only-of-type {\n",
              "        vertical-align: middle;\n",
              "    }\n",
              "\n",
              "    .dataframe tbody tr th {\n",
              "        vertical-align: top;\n",
              "    }\n",
              "\n",
              "    .dataframe thead th {\n",
              "        text-align: right;\n",
              "    }\n",
              "</style>\n",
              "<table border=\"1\" class=\"dataframe\">\n",
              "  <thead>\n",
              "    <tr style=\"text-align: right;\">\n",
              "      <th></th>\n",
              "      <th>DocumentId</th>\n",
              "      <th>SentenceId</th>\n",
              "      <th>Words</th>\n",
              "      <th>NormNLemmatizedWords</th>\n",
              "      <th>CharCount</th>\n",
              "      <th>WordCount</th>\n",
              "      <th>BiGrams</th>\n",
              "      <th>BiGramsWithStemming</th>\n",
              "      <th>BiGramsWithStemmingNoStopWords</th>\n",
              "    </tr>\n",
              "  </thead>\n",
              "  <tbody>\n",
              "    <tr>\n",
              "      <th>0</th>\n",
              "      <td>test/14826</td>\n",
              "      <td>0</td>\n",
              "      <td>[ASIAN, EXPORTERS, FEAR, DAMAGE, FROM, U.S.-JA...</td>\n",
              "      <td>[asian, exporter, fear, damage, from, usjapan,...</td>\n",
              "      <td>252</td>\n",
              "      <td>39</td>\n",
              "      <td>[(&lt;s&gt;, ASIAN), (ASIAN, EXPORTERS), (EXPORTERS,...</td>\n",
              "      <td>[(&lt;s&gt;, asian), (asian, export), (export, fear)...</td>\n",
              "      <td>[(&lt;s&gt;, asian), (asian, export), (export, fear)...</td>\n",
              "    </tr>\n",
              "    <tr>\n",
              "      <th>1</th>\n",
              "      <td>test/14826</td>\n",
              "      <td>1</td>\n",
              "      <td>[They, told, Reuter, correspondents, in, Asian...</td>\n",
              "      <td>[they, tell, reuter, correspondent, in, asian,...</td>\n",
              "      <td>184</td>\n",
              "      <td>30</td>\n",
              "      <td>[(&lt;s&gt;, They), (They, told), (told, Reuter), (R...</td>\n",
              "      <td>[(&lt;s&gt;, they), (they, told), (told, reuter), (r...</td>\n",
              "      <td>[(&lt;s&gt;, tell), (tell, reuter), (reuter, corresp...</td>\n",
              "    </tr>\n",
              "    <tr>\n",
              "      <th>2</th>\n",
              "      <td>test/14826</td>\n",
              "      <td>2</td>\n",
              "      <td>[But, some, exporters, said, that, while, the,...</td>\n",
              "      <td>[but, some, exporter, say, that, while, the, c...</td>\n",
              "      <td>136</td>\n",
              "      <td>26</td>\n",
              "      <td>[(&lt;s&gt;, But), (But, some), (some, exporters), (...</td>\n",
              "      <td>[(&lt;s&gt;, but), (but, some), (some, export), (exp...</td>\n",
              "      <td>[(&lt;s&gt;, export), (export, say), (say, conflict)...</td>\n",
              "    </tr>\n",
              "    <tr>\n",
              "      <th>3</th>\n",
              "      <td>test/14826</td>\n",
              "      <td>3</td>\n",
              "      <td>[The, U.S., Has, said, it, will, impose, 300, ...</td>\n",
              "      <td>[the, us, have, say, it, will, impose, mln, dl...</td>\n",
              "      <td>237</td>\n",
              "      <td>45</td>\n",
              "      <td>[(&lt;s&gt;, The), (The, U.S.), (U.S., Has), (Has, s...</td>\n",
              "      <td>[(&lt;s&gt;, the), (the, u.s.), (u.s., ha), (ha, sai...</td>\n",
              "      <td>[(&lt;s&gt;, us), (us, say), (say, impos), (impos, m...</td>\n",
              "    </tr>\n",
              "    <tr>\n",
              "      <th>4</th>\n",
              "      <td>test/14826</td>\n",
              "      <td>4</td>\n",
              "      <td>[Unofficial, Japanese, estimates, put, the, im...</td>\n",
              "      <td>[unofficial, japanese, estimate, put, the, imp...</td>\n",
              "      <td>199</td>\n",
              "      <td>33</td>\n",
              "      <td>[(&lt;s&gt;, Unofficial), (Unofficial, Japanese), (J...</td>\n",
              "      <td>[(&lt;s&gt;, unoffici), (unoffici, japanes), (japane...</td>\n",
              "      <td>[(&lt;s&gt;, unoffici), (unoffici, japanes), (japane...</td>\n",
              "    </tr>\n",
              "    <tr>\n",
              "      <th>...</th>\n",
              "      <td>...</td>\n",
              "      <td>...</td>\n",
              "      <td>...</td>\n",
              "      <td>...</td>\n",
              "      <td>...</td>\n",
              "      <td>...</td>\n",
              "      <td>...</td>\n",
              "      <td>...</td>\n",
              "      <td>...</td>\n",
              "    </tr>\n",
              "    <tr>\n",
              "      <th>53787</th>\n",
              "      <td>training/9992</td>\n",
              "      <td>0</td>\n",
              "      <td>[KNIGHT-RIDDER, INC, &amp;, lt, ;, KRN, &gt;, SETS, Q...</td>\n",
              "      <td>[knightridder, inc, ltkrn, set, quarterly, qtl...</td>\n",
              "      <td>117</td>\n",
              "      <td>23</td>\n",
              "      <td>[(&lt;s&gt;, KNIGHT-RIDDER), (KNIGHT-RIDDER, INC), (...</td>\n",
              "      <td>[(&lt;s&gt;, knight-ridd), (knight-ridd, inc), (inc,...</td>\n",
              "      <td>[(&lt;s&gt;, knightridd), (knightridd, inc), (inc, l...</td>\n",
              "    </tr>\n",
              "    <tr>\n",
              "      <th>53788</th>\n",
              "      <td>training/9993</td>\n",
              "      <td>0</td>\n",
              "      <td>[TECHNITROL, INC, &amp;, lt, ;, TNL, &gt;, SETS, QUAR...</td>\n",
              "      <td>[technitrol, inc, lttnl, set, quarterly, qtly,...</td>\n",
              "      <td>116</td>\n",
              "      <td>23</td>\n",
              "      <td>[(&lt;s&gt;, TECHNITROL), (TECHNITROL, INC), (INC, &amp;...</td>\n",
              "      <td>[(&lt;s&gt;, technitrol), (technitrol, inc), (inc, &amp;...</td>\n",
              "      <td>[(&lt;s&gt;, technitrol), (technitrol, inc), (inc, l...</td>\n",
              "    </tr>\n",
              "    <tr>\n",
              "      <th>53789</th>\n",
              "      <td>training/9994</td>\n",
              "      <td>0</td>\n",
              "      <td>[NATIONWIDE, CELLULAR, SERVICE, INC, &amp;, lt, ;,...</td>\n",
              "      <td>[nationwide, cellular, service, inc, ltncel, t...</td>\n",
              "      <td>347</td>\n",
              "      <td>61</td>\n",
              "      <td>[(&lt;s&gt;, NATIONWIDE), (NATIONWIDE, CELLULAR), (C...</td>\n",
              "      <td>[(&lt;s&gt;, nationwid), (nationwid, cellular), (cel...</td>\n",
              "      <td>[(&lt;s&gt;, nationwid), (nationwid, cellular), (cel...</td>\n",
              "    </tr>\n",
              "    <tr>\n",
              "      <th>53790</th>\n",
              "      <td>training/9995</td>\n",
              "      <td>0</td>\n",
              "      <td>[&amp;, lt, ;, A.H.A, .]</td>\n",
              "      <td>[ltaha]</td>\n",
              "      <td>10</td>\n",
              "      <td>5</td>\n",
              "      <td>[(&lt;s&gt;, &amp;), (&amp;, lt), (lt, ;), (;, A.H.A), (A.H....</td>\n",
              "      <td>[(&lt;s&gt;, &amp;), (&amp;, lt), (lt, ;), (;, a.h.a), (a.h....</td>\n",
              "      <td>[(&lt;s&gt;, ltaha), (ltaha, &lt;/s&gt;)]</td>\n",
              "    </tr>\n",
              "    <tr>\n",
              "      <th>53791</th>\n",
              "      <td>training/9995</td>\n",
              "      <td>1</td>\n",
              "      <td>[AUTOMOTIVE, TECHNOLOGIES, CORP, &gt;, YEAR, NET,...</td>\n",
              "      <td>[automotive, technology, corp, year, net, shr,...</td>\n",
              "      <td>161</td>\n",
              "      <td>29</td>\n",
              "      <td>[(&lt;s&gt;, AUTOMOTIVE), (AUTOMOTIVE, TECHNOLOGIES)...</td>\n",
              "      <td>[(&lt;s&gt;, automot), (automot, technolog), (techno...</td>\n",
              "      <td>[(&lt;s&gt;, automot), (automot, technolog), (techno...</td>\n",
              "    </tr>\n",
              "  </tbody>\n",
              "</table>\n",
              "<p>53792 rows × 9 columns</p>\n",
              "</div>"
            ],
            "text/plain": [
              "          DocumentId  ...                     BiGramsWithStemmingNoStopWords\n",
              "0         test/14826  ...  [(<s>, asian), (asian, export), (export, fear)...\n",
              "1         test/14826  ...  [(<s>, tell), (tell, reuter), (reuter, corresp...\n",
              "2         test/14826  ...  [(<s>, export), (export, say), (say, conflict)...\n",
              "3         test/14826  ...  [(<s>, us), (us, say), (say, impos), (impos, m...\n",
              "4         test/14826  ...  [(<s>, unoffici), (unoffici, japanes), (japane...\n",
              "...              ...  ...                                                ...\n",
              "53787  training/9992  ...  [(<s>, knightridd), (knightridd, inc), (inc, l...\n",
              "53788  training/9993  ...  [(<s>, technitrol), (technitrol, inc), (inc, l...\n",
              "53789  training/9994  ...  [(<s>, nationwid), (nationwid, cellular), (cel...\n",
              "53790  training/9995  ...                      [(<s>, ltaha), (ltaha, </s>)]\n",
              "53791  training/9995  ...  [(<s>, automot), (automot, technolog), (techno...\n",
              "\n",
              "[53792 rows x 9 columns]"
            ]
          },
          "metadata": {
            "tags": []
          },
          "execution_count": 49
        }
      ]
    },
    {
      "cell_type": "code",
      "metadata": {
        "id": "l3D0ZKk4aXHM",
        "colab_type": "code",
        "outputId": "d4bf3b64-6ec5-4eac-e5f9-452734b50dfd",
        "colab": {
          "base_uri": "https://localhost:8080/",
          "height": 225
        }
      },
      "source": [
        "from nltk import FreqDist\n",
        "allBiGrams = []\n",
        "allBiGramsWithStemmingNoStopWords = []\n",
        "df_words_chars['BiGrams'].apply(lambda bigrams: allBiGrams.extend(bigrams))\n",
        "df_words_chars['BiGramsWithStemmingNoStopWords'].apply(lambda bigrams: allBiGramsWithStemmingNoStopWords.extend(bigrams))\n"
      ],
      "execution_count": 50,
      "outputs": [
        {
          "output_type": "execute_result",
          "data": {
            "text/plain": [
              "0        None\n",
              "1        None\n",
              "2        None\n",
              "3        None\n",
              "4        None\n",
              "         ... \n",
              "53787    None\n",
              "53788    None\n",
              "53789    None\n",
              "53790    None\n",
              "53791    None\n",
              "Name: BiGramsWithStemmingNoStopWords, Length: 53792, dtype: object"
            ]
          },
          "metadata": {
            "tags": []
          },
          "execution_count": 50
        }
      ]
    },
    {
      "cell_type": "code",
      "metadata": {
        "id": "2EkaLWnhgQT1",
        "colab_type": "code",
        "colab": {}
      },
      "source": [
        ""
      ],
      "execution_count": 0,
      "outputs": []
    },
    {
      "cell_type": "code",
      "metadata": {
        "id": "tnQGgDp3gFvj",
        "colab_type": "code",
        "outputId": "057bf653-566d-4c16-87e2-c20ab6184b5e",
        "colab": {
          "base_uri": "https://localhost:8080/",
          "height": 35
        }
      },
      "source": [
        "len(allBiGrams)\n"
      ],
      "execution_count": 51,
      "outputs": [
        {
          "output_type": "execute_result",
          "data": {
            "text/plain": [
              "1602264"
            ]
          },
          "metadata": {
            "tags": []
          },
          "execution_count": 51
        }
      ]
    },
    {
      "cell_type": "code",
      "metadata": {
        "id": "8xRVKK8vg3sZ",
        "colab_type": "code",
        "colab": {}
      },
      "source": [
        "biGramsFreqDist = nltk.FreqDist(allBiGrams)\n",
        "biGramsWithStemmingNoStopWordsFreqDist = nltk.FreqDist(allBiGramsWithStemmingNoStopWords)"
      ],
      "execution_count": 0,
      "outputs": []
    },
    {
      "cell_type": "code",
      "metadata": {
        "id": "oOs6ps2Ni2uL",
        "colab_type": "code",
        "outputId": "db9f2ba7-2522-443e-ed10-2364966fbcff",
        "colab": {
          "base_uri": "https://localhost:8080/",
          "height": 191
        }
      },
      "source": [
        "biGramsFreqDist.most_common(10)"
      ],
      "execution_count": 53,
      "outputs": [
        {
          "output_type": "execute_result",
          "data": {
            "text/plain": [
              "[(('.', '</s>'), 49395),\n",
              " (('<s>', 'The'), 8839),\n",
              " (('&', 'lt'), 8694),\n",
              " (('lt', ';'), 8694),\n",
              " (('said', '.'), 7888),\n",
              " (('of', 'the'), 6803),\n",
              " (('in', 'the'), 6486),\n",
              " ((',', 'the'), 4391),\n",
              " (('mln', 'dlrs'), 4191),\n",
              " (('said', 'it'), 4003)]"
            ]
          },
          "metadata": {
            "tags": []
          },
          "execution_count": 53
        }
      ]
    },
    {
      "cell_type": "code",
      "metadata": {
        "id": "cRcrAKkqd7E-",
        "colab_type": "code",
        "colab": {
          "base_uri": "https://localhost:8080/",
          "height": 191
        },
        "outputId": "9b2c269f-eb52-4198-8b09-c872a2033201"
      },
      "source": [
        "biGramsWithStemmingNoStopWordsFreqDist.most_common(10)"
      ],
      "execution_count": 54,
      "outputs": [
        {
          "output_type": "execute_result",
          "data": {
            "text/plain": [
              "[(('say', '</s>'), 8059),\n",
              " (('mln', 'dlr'), 4828),\n",
              " (('ct', 'vs'), 3318),\n",
              " (('v', 'mln'), 3086),\n",
              " (('mln', 'v'), 2931),\n",
              " (('ct', 'net'), 2245),\n",
              " (('<s>', 'say'), 2222),\n",
              " (('billion', 'dlr'), 1901),\n",
              " (('vs', 'ct'), 1845),\n",
              " (('rev', 'mln'), 1619)]"
            ]
          },
          "metadata": {
            "tags": []
          },
          "execution_count": 54
        }
      ]
    },
    {
      "cell_type": "code",
      "metadata": {
        "id": "FYgyVMGqjI6z",
        "colab_type": "code",
        "colab": {}
      },
      "source": [
        "def showFrequencies(dataframeColumn):\n",
        "  allBiGrams = []\n",
        "  dataframeColumn.apply(lambda bigrams: allBiGrams.extend(bigrams))\n",
        "  biGramsFreqDist = nltk.FreqDist(allBiGrams)\n",
        "  return biGramsFreqDist.most_common(10)\n"
      ],
      "execution_count": 0,
      "outputs": []
    },
    {
      "cell_type": "code",
      "metadata": {
        "id": "TWu9uofXkJT2",
        "colab_type": "code",
        "outputId": "6089289f-11c3-4810-edbc-68bc654ff6c8",
        "colab": {
          "base_uri": "https://localhost:8080/",
          "height": 191
        }
      },
      "source": [
        "showFrequencies(df_words_chars['BiGrams'])"
      ],
      "execution_count": 56,
      "outputs": [
        {
          "output_type": "execute_result",
          "data": {
            "text/plain": [
              "[(('.', '</s>'), 49395),\n",
              " (('<s>', 'The'), 8839),\n",
              " (('&', 'lt'), 8694),\n",
              " (('lt', ';'), 8694),\n",
              " (('said', '.'), 7888),\n",
              " (('of', 'the'), 6803),\n",
              " (('in', 'the'), 6486),\n",
              " ((',', 'the'), 4391),\n",
              " (('mln', 'dlrs'), 4191),\n",
              " (('said', 'it'), 4003)]"
            ]
          },
          "metadata": {
            "tags": []
          },
          "execution_count": 56
        }
      ]
    },
    {
      "cell_type": "code",
      "metadata": {
        "id": "nT_KlsNrkPAj",
        "colab_type": "code",
        "outputId": "bc1dfadc-f357-4572-8374-a122392e59ed",
        "colab": {
          "base_uri": "https://localhost:8080/",
          "height": 191
        }
      },
      "source": [
        "showFrequencies(df_words_chars['BiGramsWithStemming'])"
      ],
      "execution_count": 57,
      "outputs": [
        {
          "output_type": "execute_result",
          "data": {
            "text/plain": [
              "[(('.', '</s>'), 49395),\n",
              " (('<s>', 'the'), 8865),\n",
              " (('&', 'lt'), 8694),\n",
              " (('lt', ';'), 8694),\n",
              " (('said', '.'), 7890),\n",
              " (('of', 'the'), 6809),\n",
              " (('in', 'the'), 6493),\n",
              " (('mln', 'dlr'), 4816),\n",
              " (('said', 'it'), 4750),\n",
              " ((',', 'the'), 4411)]"
            ]
          },
          "metadata": {
            "tags": []
          },
          "execution_count": 57
        }
      ]
    },
    {
      "cell_type": "code",
      "metadata": {
        "id": "I-IGUA4_kg6Q",
        "colab_type": "code",
        "outputId": "73d5773d-03f2-4c07-a337-5be15e92870a",
        "colab": {
          "base_uri": "https://localhost:8080/",
          "height": 191
        }
      },
      "source": [
        "showFrequencies(df_words_chars['BiGramsWithStemmingNoStopWords'])"
      ],
      "execution_count": 58,
      "outputs": [
        {
          "output_type": "execute_result",
          "data": {
            "text/plain": [
              "[(('say', '</s>'), 8059),\n",
              " (('mln', 'dlr'), 4828),\n",
              " (('ct', 'vs'), 3318),\n",
              " (('v', 'mln'), 3086),\n",
              " (('mln', 'v'), 2931),\n",
              " (('ct', 'net'), 2245),\n",
              " (('<s>', 'say'), 2222),\n",
              " (('billion', 'dlr'), 1901),\n",
              " (('vs', 'ct'), 1845),\n",
              " (('rev', 'mln'), 1619)]"
            ]
          },
          "metadata": {
            "tags": []
          },
          "execution_count": 58
        }
      ]
    },
    {
      "cell_type": "markdown",
      "metadata": {
        "id": "ui-xtuTWETcH",
        "colab_type": "text"
      },
      "source": [
        "- Write TF-IDF from first principles. Now, create and store meta-data for the current corpus\n",
        "- Have a function that takes a document and plots the terms of the doc as measured by the TFIDF score. \n"
      ]
    },
    {
      "cell_type": "code",
      "metadata": {
        "id": "92MMnFArEcWG",
        "colab_type": "code",
        "colab": {}
      },
      "source": [
        "#iterate over the documents to collect the term frequencies.\n",
        "#def showFrequencies(dataframeColumn):\n",
        "df_words_chars_by_doc = df_words_chars.groupby(\"DocumentId\")\n",
        "docTermFequencyDict = {}\n",
        "for DocumentId, dataframe in df_words_chars_by_doc:\n",
        "  allWords = []\n",
        "  dataframe[\"NormNLemmatizedWords\"].apply(lambda words: allWords.extend(words))\n",
        "  termDocFreqDist = nltk.FreqDist(allWords)\n",
        "  #sum all the terms in the doc\n",
        "  totalCount = sum(termDocFreqDist.values())\n",
        "  docTermFequencyDict[DocumentId] = {'TotalCount' : totalCount, 'TermDocFreqDist' : termDocFreqDist}\n",
        "\n"
      ],
      "execution_count": 0,
      "outputs": []
    },
    {
      "cell_type": "code",
      "metadata": {
        "id": "mzvlL4Gq83Wg",
        "colab_type": "code",
        "outputId": "f139e547-9a70-4b22-9458-2cf46bcc6126",
        "colab": {
          "base_uri": "https://localhost:8080/",
          "height": 121
        }
      },
      "source": [
        "#print top 5 items\n",
        "[print(v) for i, v in enumerate(docTermFequencyDict.items()) if i < 5]\n"
      ],
      "execution_count": 60,
      "outputs": [
        {
          "output_type": "stream",
          "text": [
            "('test/14826', {'TotalCount': 703, 'TermDocFreqDist': FreqDist({'the': 37, 'of': 30, 'to': 26, 'us': 18, 'be': 17, 'trade': 16, 'and': 16, 'say': 16, 'in': 16, 'a': 15, ...})})\n",
            "('test/14828', {'TotalCount': 101, 'TermDocFreqDist': FreqDist({'and': 6, 'of': 5, 'the': 5, 'china': 4, 'say': 4, 'pct': 4, 'to': 3, 'daily': 2, 'vermin': 2, 'grain': 2, ...})})\n",
            "('test/14829', {'TotalCount': 166, 'TermDocFreqDist': FreqDist({'the': 13, 'energy': 8, 'of': 8, 'in': 6, 'to': 5, 'and': 5, 'miti': 4, 'a': 4, 'say': 4, 'demand': 3, ...})})\n",
            "('test/14832', {'TotalCount': 132, 'TermDocFreqDist': FreqDist({'pct': 10, 'billion': 6, 'in': 5, 'to': 5, 'the': 5, 'first': 4, 'quarter': 4, 'from': 4, 'baht': 3, 'say': 3, ...})})\n",
            "('test/14833', {'TotalCount': 151, 'TermDocFreqDist': FreqDist({'to': 8, 'of': 5, 'indonesia': 4, 'cpo': 4, 'palm': 4, 'oil': 4, 'a': 4, 'in': 4, 'be': 4, 'price': 3, ...})})\n"
          ],
          "name": "stdout"
        },
        {
          "output_type": "execute_result",
          "data": {
            "text/plain": [
              "[None, None, None, None, None]"
            ]
          },
          "metadata": {
            "tags": []
          },
          "execution_count": 60
        }
      ]
    },
    {
      "cell_type": "code",
      "metadata": {
        "id": "1f7PbtQa88Lc",
        "colab_type": "code",
        "outputId": "e566e420-9bde-4eec-9ea8-0009c9285f54",
        "colab": {
          "base_uri": "https://localhost:8080/",
          "height": 35
        }
      },
      "source": [
        "totalNumberOfDocuments = len(df_words_chars_by_doc)\n",
        "print(f'Verify total number of doc = {totalNumberOfDocuments}')"
      ],
      "execution_count": 61,
      "outputs": [
        {
          "output_type": "stream",
          "text": [
            "Verify total number of doc = 10788\n"
          ],
          "name": "stdout"
        }
      ]
    },
    {
      "cell_type": "code",
      "metadata": {
        "id": "gj3HfCuR_vZl",
        "colab_type": "code",
        "colab": {}
      },
      "source": [
        "#make a dictionary of all terms and the number of documents in which the term is present (for IDF)\n",
        "IDF_t = {}\n",
        "\n",
        "#wish i knew how to write multi-threaded code in python with thread safety\n",
        "#to-do -- see if you can make it more compact?\n",
        "for freqDist in docTermFequencyDict.values():\n",
        "  for term, count in freqDist['TermDocFreqDist'].items():\n",
        "    if(term in IDF_t):\n",
        "      IDF_t[term] += 1\n",
        "    else:\n",
        "      IDF_t[term] = 1\n",
        "  \n"
      ],
      "execution_count": 0,
      "outputs": []
    },
    {
      "cell_type": "code",
      "metadata": {
        "id": "jDNrvfKtEHGf",
        "colab_type": "code",
        "outputId": "f90968bd-547e-4436-faa4-c70db9467d49",
        "colab": {
          "base_uri": "https://localhost:8080/",
          "height": 35
        }
      },
      "source": [
        "IDF_t['of']"
      ],
      "execution_count": 63,
      "outputs": [
        {
          "output_type": "execute_result",
          "data": {
            "text/plain": [
              "7621"
            ]
          },
          "metadata": {
            "tags": []
          },
          "execution_count": 63
        }
      ]
    },
    {
      "cell_type": "code",
      "metadata": {
        "id": "EEJn26THF4VA",
        "colab_type": "code",
        "colab": {}
      },
      "source": [
        "import math\n",
        "def TF_IDF(term, document):\n",
        "  if(document not in docTermFequencyDict):\n",
        "    return 0\n",
        "  docDetails = docTermFequencyDict[document]\n",
        "  if(term not in docDetails['TermDocFreqDist']):\n",
        "    return 0\n",
        "  if(term not in IDF_t):\n",
        "    return 0\n",
        "  tf_t = docDetails['TermDocFreqDist'][term]/ docDetails['TotalCount']\n",
        "  idf_t = math.log(totalNumberOfDocuments/ IDF_t[term])\n",
        "  return tf_t * idf_t\n",
        "\n"
      ],
      "execution_count": 0,
      "outputs": []
    },
    {
      "cell_type": "code",
      "metadata": {
        "id": "4rD5O062HF9N",
        "colab_type": "code",
        "outputId": "eab5a8ce-53e4-4cd1-e7c5-50940c28c768",
        "colab": {
          "base_uri": "https://localhost:8080/",
          "height": 87
        }
      },
      "source": [
        "print(TF_IDF('hhhhh899h9', 'test/14829'))\n",
        "print(TF_IDF('the', 'test/14829'))\n",
        "print(TF_IDF('energy', 'test/14829'))\n",
        "print(TF_IDF('energy', 'test/1482dd9'))"
      ],
      "execution_count": 65,
      "outputs": [
        {
          "output_type": "stream",
          "text": [
            "0\n",
            "0.034501407005738845\n",
            "0.17075597573253679\n",
            "0\n"
          ],
          "name": "stdout"
        }
      ]
    },
    {
      "cell_type": "code",
      "metadata": {
        "id": "QjT2z_d4HKed",
        "colab_type": "code",
        "colab": {}
      },
      "source": [
        ""
      ],
      "execution_count": 0,
      "outputs": []
    }
  ]
}